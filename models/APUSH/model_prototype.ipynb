{
 "cells": [
  {
   "attachments": {},
   "cell_type": "markdown",
   "metadata": {},
   "source": [
    "# Prototype for GPT Model\n",
    "This prototype was tested with the AP Euro textbook, which is in the AP Euro folder. This notebook will work when moved in the AP Euro folder. It has been moved to the model directory in order to serve as a template to train all future models on other textbooks."
   ]
  },
  {
   "attachments": {},
   "cell_type": "markdown",
   "metadata": {},
   "source": [
    "Saved: <br>\n",
    "https://platform.openai.com/docs/guides/fine-tuning (also has JS stuff)\n",
    "\n",
    "On JS: <br>\n",
    "https://platform.openai.com/docs/api-reference/fine-tunes"
   ]
  },
  {
   "cell_type": "code",
   "execution_count": 20,
   "metadata": {},
   "outputs": [],
   "source": [
    "import openai\n",
    "import pandas as pd\n",
    "import numpy as np\n",
    "import pickle\n",
    "\n",
    "with open(\"../api_key.txt\", \"r\") as f:\n",
    "    openai.api_key = f.read()\n",
    "\n",
    "COMPLETIONS_MODEL = \"text-davinci-003\""
   ]
  },
  {
   "attachments": {},
   "cell_type": "markdown",
   "metadata": {},
   "source": [
    "### Making textbook into finetuning data"
   ]
  },
  {
   "attachments": {},
   "cell_type": "markdown",
   "metadata": {},
   "source": [
    "##### Preprocessing text"
   ]
  },
  {
   "cell_type": "code",
   "execution_count": 2,
   "metadata": {},
   "outputs": [],
   "source": [
    "with open(\"APUSH.txt\", \"r\", encoding=\"utf-8\", errors=\"ignore\") as f:\n",
    "    text = f.read()"
   ]
  },
  {
   "cell_type": "code",
   "execution_count": 9,
   "metadata": {},
   "outputs": [],
   "source": [
    "import re\n",
    "\n",
    "input_file = 'APUSH.txt'\n",
    "output_file = 'APUSH1.txt'\n",
    "\n",
    "with open(input_file, 'r', errors=\"ignore\") as file_in, open(output_file, 'w') as file_out:\n",
    "    content = file_in.read()\n",
    "    modified_content = re.sub(r'\\n{2,}', '\\n\\n', content)  # Replace multiple new lines with two new lines\n",
    "    # modified_content = re.sub(r'\\n(?!\\n)', ' ', modified_content)  # Replace a single new line with a space\n",
    "    file_out.write(modified_content)"
   ]
  },
  {
   "attachments": {},
   "cell_type": "markdown",
   "metadata": {},
   "source": [
    "##### Putting new text file into valid finetuning dataframe"
   ]
  },
  {
   "cell_type": "code",
   "execution_count": 12,
   "metadata": {},
   "outputs": [
    {
     "data": {
      "text/html": [
       "<div>\n",
       "<style scoped>\n",
       "    .dataframe tbody tr th:only-of-type {\n",
       "        vertical-align: middle;\n",
       "    }\n",
       "\n",
       "    .dataframe tbody tr th {\n",
       "        vertical-align: top;\n",
       "    }\n",
       "\n",
       "    .dataframe thead th {\n",
       "        text-align: right;\n",
       "    }\n",
       "</style>\n",
       "<table border=\"1\" class=\"dataframe\">\n",
       "  <thead>\n",
       "    <tr style=\"text-align: right;\">\n",
       "      <th></th>\n",
       "      <th>prompt</th>\n",
       "      <th>completion</th>\n",
       "    </tr>\n",
       "  </thead>\n",
       "  <tbody>\n",
       "    <tr>\n",
       "      <th>0</th>\n",
       "      <td></td>\n",
       "      <td>By the People</td>\n",
       "    </tr>\n",
       "    <tr>\n",
       "      <th>1</th>\n",
       "      <td></td>\n",
       "      <td>A History of the United States</td>\n",
       "    </tr>\n",
       "    <tr>\n",
       "      <th>2</th>\n",
       "      <td></td>\n",
       "      <td>AP ® Edition</td>\n",
       "    </tr>\n",
       "    <tr>\n",
       "      <th>3</th>\n",
       "      <td></td>\n",
       "      <td>Boston Columbus Indianapolis New York San Fran...</td>\n",
       "    </tr>\n",
       "    <tr>\n",
       "      <th>4</th>\n",
       "      <td></td>\n",
       "      <td>Amsterdam Cape Town Dubai London Madrid Milan ...</td>\n",
       "    </tr>\n",
       "    <tr>\n",
       "      <th>...</th>\n",
       "      <td>...</td>\n",
       "      <td>...</td>\n",
       "    </tr>\n",
       "    <tr>\n",
       "      <th>74159</th>\n",
       "      <td></td>\n",
       "      <td>Zuni, 4 , 7</td>\n",
       "    </tr>\n",
       "    <tr>\n",
       "      <th>74160</th>\n",
       "      <td></td>\n",
       "      <td>Zuni Pueblo, 43</td>\n",
       "    </tr>\n",
       "    <tr>\n",
       "      <th>74161</th>\n",
       "      <td></td>\n",
       "      <td>Zutucapan, 48</td>\n",
       "    </tr>\n",
       "    <tr>\n",
       "      <th>74162</th>\n",
       "      <td></td>\n",
       "      <td></td>\n",
       "    </tr>\n",
       "    <tr>\n",
       "      <th>74163</th>\n",
       "      <td></td>\n",
       "      <td></td>\n",
       "    </tr>\n",
       "  </tbody>\n",
       "</table>\n",
       "<p>74164 rows × 2 columns</p>\n",
       "</div>"
      ],
      "text/plain": [
       "      prompt                                         completion\n",
       "0                                                By the People \n",
       "1                               A History of the United States \n",
       "2                                                 AP ® Edition \n",
       "3             Boston Columbus Indianapolis New York San Fran...\n",
       "4             Amsterdam Cape Town Dubai London Madrid Milan ...\n",
       "...      ...                                                ...\n",
       "74159                                              Zuni, 4 , 7 \n",
       "74160                                          Zuni Pueblo, 43 \n",
       "74161                                            Zutucapan, 48 \n",
       "74162                                                         \n",
       "\n",
       "74163                                                          \n",
       "\n",
       "[74164 rows x 2 columns]"
      ]
     },
     "execution_count": 12,
     "metadata": {},
     "output_type": "execute_result"
    }
   ],
   "source": [
    "with open(\"APUSH1.txt\", \"r\", encoding=\"utf-8\", errors=\"ignore\") as f:\n",
    "    text = f.read()\n",
    "\n",
    "df = pd.DataFrame(text.split(\"\\n\"), columns=[\"completion\"])\n",
    "df[\"prompt\"] = \"\"\n",
    "\n",
    "df = df.reindex(columns=[\"prompt\", \"completion\"])\n",
    "\n",
    "df"
   ]
  },
  {
   "attachments": {},
   "cell_type": "markdown",
   "metadata": {},
   "source": [
    "##### Removing invalid characters from dataframe"
   ]
  },
  {
   "cell_type": "code",
   "execution_count": 13,
   "metadata": {},
   "outputs": [
    {
     "data": {
      "text/html": [
       "<div>\n",
       "<style scoped>\n",
       "    .dataframe tbody tr th:only-of-type {\n",
       "        vertical-align: middle;\n",
       "    }\n",
       "\n",
       "    .dataframe tbody tr th {\n",
       "        vertical-align: top;\n",
       "    }\n",
       "\n",
       "    .dataframe thead th {\n",
       "        text-align: right;\n",
       "    }\n",
       "</style>\n",
       "<table border=\"1\" class=\"dataframe\">\n",
       "  <thead>\n",
       "    <tr style=\"text-align: right;\">\n",
       "      <th></th>\n",
       "      <th>prompt</th>\n",
       "      <th>completion</th>\n",
       "    </tr>\n",
       "  </thead>\n",
       "  <tbody>\n",
       "    <tr>\n",
       "      <th>0</th>\n",
       "      <td></td>\n",
       "      <td>By the People</td>\n",
       "    </tr>\n",
       "    <tr>\n",
       "      <th>1</th>\n",
       "      <td></td>\n",
       "      <td>A History of the United States</td>\n",
       "    </tr>\n",
       "    <tr>\n",
       "      <th>2</th>\n",
       "      <td></td>\n",
       "      <td>AP  Edition</td>\n",
       "    </tr>\n",
       "    <tr>\n",
       "      <th>3</th>\n",
       "      <td></td>\n",
       "      <td>Boston Columbus Indianapolis New York San Fran...</td>\n",
       "    </tr>\n",
       "    <tr>\n",
       "      <th>4</th>\n",
       "      <td></td>\n",
       "      <td>Amsterdam Cape Town Dubai London Madrid Milan ...</td>\n",
       "    </tr>\n",
       "    <tr>\n",
       "      <th>...</th>\n",
       "      <td>...</td>\n",
       "      <td>...</td>\n",
       "    </tr>\n",
       "    <tr>\n",
       "      <th>74159</th>\n",
       "      <td></td>\n",
       "      <td>Zuni, 4 , 7</td>\n",
       "    </tr>\n",
       "    <tr>\n",
       "      <th>74160</th>\n",
       "      <td></td>\n",
       "      <td>Zuni Pueblo, 43</td>\n",
       "    </tr>\n",
       "    <tr>\n",
       "      <th>74161</th>\n",
       "      <td></td>\n",
       "      <td>Zutucapan, 48</td>\n",
       "    </tr>\n",
       "    <tr>\n",
       "      <th>74162</th>\n",
       "      <td></td>\n",
       "      <td></td>\n",
       "    </tr>\n",
       "    <tr>\n",
       "      <th>74163</th>\n",
       "      <td></td>\n",
       "      <td></td>\n",
       "    </tr>\n",
       "  </tbody>\n",
       "</table>\n",
       "<p>74164 rows × 2 columns</p>\n",
       "</div>"
      ],
      "text/plain": [
       "      prompt                                         completion\n",
       "0                                                By the People \n",
       "1                               A History of the United States \n",
       "2                                                  AP  Edition \n",
       "3             Boston Columbus Indianapolis New York San Fran...\n",
       "4             Amsterdam Cape Town Dubai London Madrid Milan ...\n",
       "...      ...                                                ...\n",
       "74159                                              Zuni, 4 , 7 \n",
       "74160                                          Zuni Pueblo, 43 \n",
       "74161                                            Zutucapan, 48 \n",
       "74162                                                          \n",
       "74163                                                          \n",
       "\n",
       "[74164 rows x 2 columns]"
      ]
     },
     "execution_count": 13,
     "metadata": {},
     "output_type": "execute_result"
    }
   ],
   "source": [
    "pattern = r\"[^A-Za-z0-9\\n,. ]\"\n",
    "\n",
    "df_cleaned = df.applymap(lambda x: re.sub(pattern, \"\", str(x)))\n",
    "\n",
    "df = df_cleaned\n",
    "df"
   ]
  },
  {
   "cell_type": "code",
   "execution_count": 14,
   "metadata": {},
   "outputs": [],
   "source": [
    "df.to_csv(\"APUSH.csv\", index=False)"
   ]
  },
  {
   "cell_type": "code",
   "execution_count": 22,
   "metadata": {},
   "outputs": [
    {
     "data": {
      "text/html": [
       "<div>\n",
       "<style scoped>\n",
       "    .dataframe tbody tr th:only-of-type {\n",
       "        vertical-align: middle;\n",
       "    }\n",
       "\n",
       "    .dataframe tbody tr th {\n",
       "        vertical-align: top;\n",
       "    }\n",
       "\n",
       "    .dataframe thead th {\n",
       "        text-align: right;\n",
       "    }\n",
       "</style>\n",
       "<table border=\"1\" class=\"dataframe\">\n",
       "  <thead>\n",
       "    <tr style=\"text-align: right;\">\n",
       "      <th></th>\n",
       "      <th>Unnamed: 0</th>\n",
       "      <th>To the Student</th>\n",
       "    </tr>\n",
       "  </thead>\n",
       "  <tbody>\n",
       "    <tr>\n",
       "      <th>0</th>\n",
       "      <td>NaN</td>\n",
       "      <td>I hope you enjoy reading By the People and tha...</td>\n",
       "    </tr>\n",
       "    <tr>\n",
       "      <th>1</th>\n",
       "      <td>NaN</td>\n",
       "      <td>as a result of reading it.</td>\n",
       "    </tr>\n",
       "    <tr>\n",
       "      <th>2</th>\n",
       "      <td>NaN</td>\n",
       "      <td>Th e title of this book By the People describe...</td>\n",
       "    </tr>\n",
       "    <tr>\n",
       "      <th>3</th>\n",
       "      <td>NaN</td>\n",
       "      <td>shaped the United States as it is today. Whene...</td>\n",
       "    </tr>\n",
       "    <tr>\n",
       "      <th>4</th>\n",
       "      <td>NaN</td>\n",
       "      <td>who have created this country. In a survey of ...</td>\n",
       "    </tr>\n",
       "    <tr>\n",
       "      <th>...</th>\n",
       "      <td>...</td>\n",
       "      <td>...</td>\n",
       "    </tr>\n",
       "    <tr>\n",
       "      <th>73011</th>\n",
       "      <td>NaN</td>\n",
       "      <td>Zuni, 4 , 7</td>\n",
       "    </tr>\n",
       "    <tr>\n",
       "      <th>73012</th>\n",
       "      <td>NaN</td>\n",
       "      <td>Zuni Pueblo, 43</td>\n",
       "    </tr>\n",
       "    <tr>\n",
       "      <th>73013</th>\n",
       "      <td>NaN</td>\n",
       "      <td>Zutucapan, 48</td>\n",
       "    </tr>\n",
       "    <tr>\n",
       "      <th>73014</th>\n",
       "      <td>NaN</td>\n",
       "      <td>NaN</td>\n",
       "    </tr>\n",
       "    <tr>\n",
       "      <th>73015</th>\n",
       "      <td>NaN</td>\n",
       "      <td>NaN</td>\n",
       "    </tr>\n",
       "  </tbody>\n",
       "</table>\n",
       "<p>73016 rows × 2 columns</p>\n",
       "</div>"
      ],
      "text/plain": [
       "       Unnamed: 0                                    To the Student \n",
       "0             NaN  I hope you enjoy reading By the People and tha...\n",
       "1             NaN                        as a result of reading it. \n",
       "2             NaN  Th e title of this book By the People describe...\n",
       "3             NaN  shaped the United States as it is today. Whene...\n",
       "4             NaN  who have created this country. In a survey of ...\n",
       "...           ...                                                ...\n",
       "73011         NaN                                       Zuni, 4 , 7 \n",
       "73012         NaN                                   Zuni Pueblo, 43 \n",
       "73013         NaN                                     Zutucapan, 48 \n",
       "73014         NaN                                                NaN\n",
       "73015         NaN                                                NaN\n",
       "\n",
       "[73016 rows x 2 columns]"
      ]
     },
     "execution_count": 22,
     "metadata": {},
     "output_type": "execute_result"
    }
   ],
   "source": [
    "df = pd.read_csv(\"APUSH.csv\")\n",
    "df"
   ]
  },
  {
   "attachments": {},
   "cell_type": "markdown",
   "metadata": {},
   "source": [
    "### Finetuning model"
   ]
  },
  {
   "attachments": {},
   "cell_type": "markdown",
   "metadata": {},
   "source": [
    "Now, to create a fine-tuning jsonl file with the above saved dataframe, run the following command in this directory:\n",
    "```\n",
    "openai tools fine_tunes.prepare_data -f \"APUSH.csv\"\n",
    "```\n",
    "Then, run this command to train an openai model on the find tuned data:\n",
    "```\n",
    "openai api fine_tunes.create -t \"APUSH_prepared.jsonl\" -m \"curie\"\n",
    "```\n",
    "Run if stream interrupted:<br>\n",
    "```\n",
    "openai api fine_tunes.follow -i <YOUR_FINE_TUNE_JOB_ID>\n",
    "```"
   ]
  },
  {
   "attachments": {},
   "cell_type": "markdown",
   "metadata": {},
   "source": [
    "### Testing model"
   ]
  },
  {
   "cell_type": "code",
   "execution_count": 28,
   "metadata": {},
   "outputs": [
    {
     "data": {
      "text/plain": [
       "''"
      ]
     },
     "execution_count": 28,
     "metadata": {},
     "output_type": "execute_result"
    }
   ],
   "source": [
    "def get_model(prompt):\n",
    "    response = openai.Completion.create(\n",
    "        model=\"curie:ft-personal-2023-06-02-17-24-33\",\n",
    "        prompt=prompt,\n",
    "        max_tokens=500,\n",
    "        temperature=0.7,\n",
    "        top_p=1,\n",
    "        frequency_penalty=0,\n",
    "        presence_penalty=0.3,\n",
    "        stop=[\"\\n\"]\n",
    "    )\n",
    "    return response.choices[0].text\n",
    "\n",
    "get_model(\"What happened during the Civil War?\")\n"
   ]
  },
  {
   "cell_type": "code",
   "execution_count": null,
   "metadata": {},
   "outputs": [],
   "source": []
  }
 ],
 "metadata": {
  "kernelspec": {
   "display_name": "Python 3",
   "language": "python",
   "name": "python3"
  },
  "language_info": {
   "codemirror_mode": {
    "name": "ipython",
    "version": 3
   },
   "file_extension": ".py",
   "mimetype": "text/x-python",
   "name": "python",
   "nbconvert_exporter": "python",
   "pygments_lexer": "ipython3",
   "version": "3.9.0"
  },
  "orig_nbformat": 4
 },
 "nbformat": 4,
 "nbformat_minor": 2
}
