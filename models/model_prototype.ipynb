{
 "cells": [
  {
   "attachments": {},
   "cell_type": "markdown",
   "metadata": {},
   "source": [
    "# Prototype for GPT Model\n",
    "This prototype was tested with the AP Euro textbook, which is in the AP Euro folder. This notebook will work when moved in the AP Euro folder. It has been moved to the model directory in order to serve as a template to train all future models on other textbooks."
   ]
  },
  {
   "attachments": {},
   "cell_type": "markdown",
   "metadata": {},
   "source": [
    "Saved: <br>\n",
    "https://platform.openai.com/docs/guides/fine-tuning (also has JS stuff)\n",
    "\n",
    "On JS: <br>\n",
    "https://platform.openai.com/docs/api-reference/fine-tunes"
   ]
  },
  {
   "cell_type": "code",
   "execution_count": 2,
   "metadata": {},
   "outputs": [],
   "source": [
    "import openai\n",
    "import pandas as pd\n",
    "import numpy as np\n",
    "import pickle\n",
    "\n",
    "with open(\"../api_key.txt\", \"r\") as f:\n",
    "    openai.api_key = f.read()\n",
    "\n",
    "COMPLETIONS_MODEL = \"text-davinci-003\""
   ]
  },
  {
   "attachments": {},
   "cell_type": "markdown",
   "metadata": {},
   "source": [
    "### Making textbook into finetuning data"
   ]
  },
  {
   "attachments": {},
   "cell_type": "markdown",
   "metadata": {},
   "source": [
    "##### Preprocessing text"
   ]
  },
  {
   "cell_type": "code",
   "execution_count": 1,
   "metadata": {},
   "outputs": [],
   "source": [
    "with open(\"Euro.txt\", \"r\", encoding=\"utf-8\", errors=\"ignore\") as f:\n",
    "    text = f.read()"
   ]
  },
  {
   "cell_type": "code",
   "execution_count": 9,
   "metadata": {},
   "outputs": [],
   "source": [
    "import re\n",
    "\n",
    "input_file = 'Euro.txt'\n",
    "output_file = 'Euro1.txt'\n",
    "\n",
    "with open(input_file, 'r', errors=\"ignore\") as file_in, open(output_file, 'w') as file_out:\n",
    "    content = file_in.read()\n",
    "    modified_content = re.sub(r'\\n{2,}', '\\n\\n', content)  # Replace multiple new lines with two new lines\n",
    "    modified_content = re.sub(r'\\n(?!\\n)', ' ', modified_content)  # Replace a single new line with a space\n",
    "    file_out.write(modified_content)"
   ]
  },
  {
   "attachments": {},
   "cell_type": "markdown",
   "metadata": {},
   "source": [
    "##### Putting new text file into valid finetuning dataframe"
   ]
  },
  {
   "cell_type": "code",
   "execution_count": 10,
   "metadata": {},
   "outputs": [
    {
     "data": {
      "text/html": [
       "<div>\n",
       "<style scoped>\n",
       "    .dataframe tbody tr th:only-of-type {\n",
       "        vertical-align: middle;\n",
       "    }\n",
       "\n",
       "    .dataframe tbody tr th {\n",
       "        vertical-align: top;\n",
       "    }\n",
       "\n",
       "    .dataframe thead th {\n",
       "        text-align: right;\n",
       "    }\n",
       "</style>\n",
       "<table border=\"1\" class=\"dataframe\">\n",
       "  <thead>\n",
       "    <tr style=\"text-align: right;\">\n",
       "      <th></th>\n",
       "      <th>prompt</th>\n",
       "      <th>completion</th>\n",
       "    </tr>\n",
       "  </thead>\n",
       "  <tbody>\n",
       "    <tr>\n",
       "      <th>0</th>\n",
       "      <td></td>\n",
       "      <td>This page intentionally left blank</td>\n",
       "    </tr>\n",
       "    <tr>\n",
       "      <th>1</th>\n",
       "      <td></td>\n",
       "      <td>A History of Western Society A History of W...</td>\n",
       "    </tr>\n",
       "    <tr>\n",
       "      <th>2</th>\n",
       "      <td></td>\n",
       "      <td>Since 1300 cover image: Juan de Pareja, 1650,...</td>\n",
       "    </tr>\n",
       "    <tr>\n",
       "      <th>3</th>\n",
       "      <td></td>\n",
       "      <td>*“AP and “Advanced Placement Program are regi...</td>\n",
       "    </tr>\n",
       "    <tr>\n",
       "      <th>4</th>\n",
       "      <td></td>\n",
       "      <td>Library of Congress Control Number: 200792773...</td>\n",
       "    </tr>\n",
       "    <tr>\n",
       "      <th>...</th>\n",
       "      <td>...</td>\n",
       "      <td>...</td>\n",
       "    </tr>\n",
       "    <tr>\n",
       "      <th>11337</th>\n",
       "      <td></td>\n",
       "      <td>Reduced spending on Big Science, 1980s  Compu...</td>\n",
       "    </tr>\n",
       "    <tr>\n",
       "      <th>11338</th>\n",
       "      <td></td>\n",
       "      <td>U.S. Genome Project begins, 1990  First WWW s...</td>\n",
       "    </tr>\n",
       "    <tr>\n",
       "      <th>11339</th>\n",
       "      <td></td>\n",
       "      <td>Solzhenitsyn returns to Russia, 1994  Author ...</td>\n",
       "    </tr>\n",
       "    <tr>\n",
       "      <th>11340</th>\n",
       "      <td></td>\n",
       "      <td>Calatrava, Tenerife Concert Hall, 2003</td>\n",
       "    </tr>\n",
       "    <tr>\n",
       "      <th>11341</th>\n",
       "      <td></td>\n",
       "      <td></td>\n",
       "    </tr>\n",
       "  </tbody>\n",
       "</table>\n",
       "<p>11342 rows × 2 columns</p>\n",
       "</div>"
      ],
      "text/plain": [
       "      prompt                                         completion\n",
       "0                           This page intentionally left blank \n",
       "1              \n",
       " A History of Western Society A History of W...\n",
       "2              Since 1300 cover image: Juan de Pareja, 1650,...\n",
       "3              *“AP and “Advanced Placement Program are regi...\n",
       "4              Library of Congress Control Number: 200792773...\n",
       "...      ...                                                ...\n",
       "11337          Reduced spending on Big Science, 1980s  Compu...\n",
       "11338          U.S. Genome Project begins, 1990  First WWW s...\n",
       "11339          Solzhenitsyn returns to Russia, 1994  Author ...\n",
       "11340                   Calatrava, Tenerife Concert Hall, 2003 \n",
       "11341                                                        \n",
       " \n",
       "\n",
       "[11342 rows x 2 columns]"
      ]
     },
     "execution_count": 10,
     "metadata": {},
     "output_type": "execute_result"
    }
   ],
   "source": [
    "with open(\"Euro1.txt\", \"r\", encoding=\"utf-8\", errors=\"ignore\") as f:\n",
    "    text = f.read()\n",
    "\n",
    "df = pd.DataFrame(text.split(\"\\n\"), columns=[\"completion\"])\n",
    "df[\"prompt\"] = \"\"\n",
    "\n",
    "df = df.reindex(columns=[\"prompt\", \"completion\"])\n",
    "\n",
    "df"
   ]
  },
  {
   "attachments": {},
   "cell_type": "markdown",
   "metadata": {},
   "source": [
    "##### Removing invalid characters from dataframe"
   ]
  },
  {
   "cell_type": "code",
   "execution_count": 12,
   "metadata": {},
   "outputs": [
    {
     "data": {
      "text/html": [
       "<div>\n",
       "<style scoped>\n",
       "    .dataframe tbody tr th:only-of-type {\n",
       "        vertical-align: middle;\n",
       "    }\n",
       "\n",
       "    .dataframe tbody tr th {\n",
       "        vertical-align: top;\n",
       "    }\n",
       "\n",
       "    .dataframe thead th {\n",
       "        text-align: right;\n",
       "    }\n",
       "</style>\n",
       "<table border=\"1\" class=\"dataframe\">\n",
       "  <thead>\n",
       "    <tr style=\"text-align: right;\">\n",
       "      <th></th>\n",
       "      <th>prompt</th>\n",
       "      <th>completion</th>\n",
       "    </tr>\n",
       "  </thead>\n",
       "  <tbody>\n",
       "    <tr>\n",
       "      <th>0</th>\n",
       "      <td></td>\n",
       "      <td>This page intentionally left blank</td>\n",
       "    </tr>\n",
       "    <tr>\n",
       "      <th>1</th>\n",
       "      <td></td>\n",
       "      <td>A History of Western Society A History of We...</td>\n",
       "    </tr>\n",
       "    <tr>\n",
       "      <th>2</th>\n",
       "      <td></td>\n",
       "      <td>Since 1300 cover image Juan de Pareja, 1650, ...</td>\n",
       "    </tr>\n",
       "    <tr>\n",
       "      <th>3</th>\n",
       "      <td></td>\n",
       "      <td>AP and Advanced Placement Program are registe...</td>\n",
       "    </tr>\n",
       "    <tr>\n",
       "      <th>4</th>\n",
       "      <td></td>\n",
       "      <td>Library of Congress Control Number 2007927730...</td>\n",
       "    </tr>\n",
       "    <tr>\n",
       "      <th>...</th>\n",
       "      <td>...</td>\n",
       "      <td>...</td>\n",
       "    </tr>\n",
       "    <tr>\n",
       "      <th>11337</th>\n",
       "      <td></td>\n",
       "      <td>Reduced spending on Big Science, 1980s  Compu...</td>\n",
       "    </tr>\n",
       "    <tr>\n",
       "      <th>11338</th>\n",
       "      <td></td>\n",
       "      <td>U.S. Genome Project begins, 1990  First WWW s...</td>\n",
       "    </tr>\n",
       "    <tr>\n",
       "      <th>11339</th>\n",
       "      <td></td>\n",
       "      <td>Solzhenitsyn returns to Russia, 1994  Author ...</td>\n",
       "    </tr>\n",
       "    <tr>\n",
       "      <th>11340</th>\n",
       "      <td></td>\n",
       "      <td>Calatrava, Tenerife Concert Hall, 2003</td>\n",
       "    </tr>\n",
       "    <tr>\n",
       "      <th>11341</th>\n",
       "      <td></td>\n",
       "      <td></td>\n",
       "    </tr>\n",
       "  </tbody>\n",
       "</table>\n",
       "<p>11342 rows × 2 columns</p>\n",
       "</div>"
      ],
      "text/plain": [
       "      prompt                                         completion\n",
       "0                           This page intentionally left blank \n",
       "1               A History of Western Society A History of We...\n",
       "2              Since 1300 cover image Juan de Pareja, 1650, ...\n",
       "3              AP and Advanced Placement Program are registe...\n",
       "4              Library of Congress Control Number 2007927730...\n",
       "...      ...                                                ...\n",
       "11337          Reduced spending on Big Science, 1980s  Compu...\n",
       "11338          U.S. Genome Project begins, 1990  First WWW s...\n",
       "11339          Solzhenitsyn returns to Russia, 1994  Author ...\n",
       "11340                   Calatrava, Tenerife Concert Hall, 2003 \n",
       "11341                                                          \n",
       "\n",
       "[11342 rows x 2 columns]"
      ]
     },
     "execution_count": 12,
     "metadata": {},
     "output_type": "execute_result"
    }
   ],
   "source": [
    "pattern = r\"[^A-Za-z0-9\\n,. ]\"\n",
    "\n",
    "df_cleaned = df.applymap(lambda x: re.sub(pattern, \"\", str(x)))\n",
    "\n",
    "df = df_cleaned\n",
    "df"
   ]
  },
  {
   "cell_type": "code",
   "execution_count": 13,
   "metadata": {},
   "outputs": [],
   "source": [
    "df.to_csv(\"Euro.csv\", index=False)"
   ]
  },
  {
   "attachments": {},
   "cell_type": "markdown",
   "metadata": {},
   "source": [
    "### Finetuning model"
   ]
  },
  {
   "attachments": {},
   "cell_type": "markdown",
   "metadata": {},
   "source": [
    "Now, to create a fine-tuning jsonl file with the above saved dataframe, run the following command in this directory:\n",
    "```\n",
    "openai tools fine_tunes.prepare_data -f \"Euro.csv\"\n",
    "```\n",
    "Then, run this command to train an openai model on the find tuned data:\n",
    "```\n",
    "openai api fine_tunes.create -t \"Euro_prepared.jsonl\" -m \"curie\"\n",
    "```\n",
    "Run if stream interrupted:<br>\n",
    "```\n",
    "openai api fine_tunes.follow -i <YOUR_FINE_TUNE_JOB_ID>\n",
    "```"
   ]
  },
  {
   "attachments": {},
   "cell_type": "markdown",
   "metadata": {},
   "source": [
    "### Testing model"
   ]
  },
  {
   "cell_type": "code",
   "execution_count": 17,
   "metadata": {},
   "outputs": [
    {
     "data": {
      "text/plain": [
       "'  What was Hitlers answer to the crisis of modern society  In Hitlers Germany, a number of scholars have argued  that the general crisis of western European society in the  1920s and 1930s played a major role in bringing fascism  to power in Germany. After the Great War, these crises  included unemployment, inflation, and the breakdown  of political parties and traditional political systems.  Unemployment in Germany reached a high of 8 million  in 1932, more than 10 percent of the labor force. In the  1920s, many middleclass people and intellectuals also  lost much of their real income because they were unable to  keep up with the price increases of everyday items.  Hitlers answer to this general crisis of society was to attack  it from above and from below. He sought to create a new  elite of wellborn, ambitious Nazis who would commandeer  all the privileges and opportunities afforded by the  modern state. Hitler recruited poor and lowermiddle class people for his SA Brownshirts, and he began to promote  them as a potential elite.  Above Hitler and the SA loomed the great modern  state, its bureaucracy and armed forces. Hitlers vision of  the future Nazi leader was an unelected, allpowerful  leader who would unify all the peoples hopes and interests  in the Third Reich.  Below Hitler and the SA stood the broad mass of  people, the SA men and the SA women, the party members  and the party supporters. To Hitler, the SA men were  the true Nazis the ones who would actually wield power and  lead the state. The SA men were thus the vanguard of  Hitlers new elite.  The SA also played an important role in Nazi terror.  Members were given special training in violence and intimidation  and were encouraged to terrorize and even kill  Jews and political opponents. The SA also plundered and  auctioned off Jewish property, and many SA men joined in  the looting and violence.  This Germanys Chancellor is not a statesman but the  leader of a band of murderers and hangmen, said one critic.  He is playing with the destinies of millions of men and  women.15 Hitlers personal rule was increasingly arbitrary,  and he demanded total loyalty from his subordinates.  By the end of 1932, the SA was run by about 8,000  dedicated fanatics, but only about 25,000 Nazi  sympathizers had joined the party.  Then in March 1933, Hitler assumed dictatorial powers,  and he and the Nazi Party ruled by terror.  All opposition was eliminated, and all opposition  leaders were arrested. All independent political parties  were outlawed, and the Nazi Party took over almost  every function of national government. The press and  radio were firmly controlled, and only Nazi propaganda  was permitted. In 1934 Hitler turned his attention to  the churches, which were ordered to join the Nazi  revolution. About 12 million Germans belonged to the  Protestant churches before 1933, but after the churches were  swallowed up by the Nazis, only about 3.5 million remained  unofficial members.   J. P. Sartre, The Wretched of the Earth, 1936.  Sartre argues that western European society was to blame  for fascism and that the only way to save liberal democracy  was to transform it into a socialist dictatorship.   Quoted in P. Gillingham, German Socialism and the Rise of Hitler,  1987.   Quoted in N. MacGregor, The Nazi Party in History A Study in Organisational  Change, 193044, 1994, p. 247.   Quoted in A. Broucek, The Rise of Fascist Italy, 19191932, 1985,  p. 79.   Quoted in R. Rhodes, Hitler, I Knew Him, 1988, p. 139.   D. L. MacLachlan, Fascism, Fascism, and Fascism Urban Life and Fascist  Movements in Italy and Spain, 19912000, pp. 265269.   Quoted in R. Goodwin, The British Press and the Reemergence of  Fascism in Germany, 1983, p. 46.   Quoted in I. Kershaw, The Nazi Dictatorship, 1989, p. 136.   Quoted in A. J. P. Taylor, The Origins of the Second World War,  1961, p. 683.   Quoted in W. J. H. Bennett, The Nazi Party in Lower Saxony,  19331939, 1972, p. 24.   Quoted in W. M. Westerfield, The German Right and German Unification,  1994, p. 32.  Source Document  Document Source  Location in Document  Time Period  Source  Document Source '"
      ]
     },
     "execution_count": 17,
     "metadata": {},
     "output_type": "execute_result"
    }
   ],
   "source": [
    "def get_model(prompt):\n",
    "    response = openai.Completion.create(\n",
    "        model=\"curie:ft-personal-2023-05-19-18-07-57\",\n",
    "        prompt=prompt,\n",
    "        max_tokens=1000,\n",
    "        temperature=0.7,\n",
    "        top_p=1,\n",
    "        frequency_penalty=0,\n",
    "        presence_penalty=0.3,\n",
    "        stop=[\"\\n\"]\n",
    "    )\n",
    "    return response.choices[0].text\n",
    "\n",
    "get_model(\"What caused the rise of fascism in WW2?\")\n"
   ]
  }
 ],
 "metadata": {
  "kernelspec": {
   "display_name": "Python 3",
   "language": "python",
   "name": "python3"
  },
  "language_info": {
   "codemirror_mode": {
    "name": "ipython",
    "version": 3
   },
   "file_extension": ".py",
   "mimetype": "text/x-python",
   "name": "python",
   "nbconvert_exporter": "python",
   "pygments_lexer": "ipython3",
   "version": "3.9.0"
  },
  "orig_nbformat": 4
 },
 "nbformat": 4,
 "nbformat_minor": 2
}
